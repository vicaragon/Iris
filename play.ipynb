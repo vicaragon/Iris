{
 "cells": [
  {
   "cell_type": "code",
   "execution_count": 30,
   "metadata": {
    "collapsed": true
   },
   "outputs": [],
   "source": [
    "import pandas as pd\n",
    "import numpy as np\n",
    "import matplotlib.pyplot as plt"
   ]
  },
  {
   "cell_type": "code",
   "execution_count": null,
   "metadata": {
    "collapsed": false
   },
   "outputs": [],
   "source": [
    "def loadIris():\n",
    "    df = pd.read_csv(\"Iris.csv\")\n",
    "    x = df.iloc[0:100,[1,3]].values\n",
    "    y = df.iloc[0:100,5].values\n",
    "    y = np.where(y=='Iris-setosa',-1,1)\n",
    "    return x,y\n",
    "\n",
    "def visualRawIris():\n",
    "    x,y = loadIris()\n",
    "    plt.scatter(x[:50,0],x[:50,1],color='red',marker='o',label='setosa')\n",
    "    plt.scatter(x[50:100,0],x[50:100,1],color='blue',marker='x',label='versicolor')\n",
    "    plt.xlabel('sepal length')\n",
    "    plt.ylabel('petal length')\n",
    "    plt.legend(loc='upper left')\n",
    "    plt.show()\n",
    "visualRawIris()"
   ]
  },
  {
   "cell_type": "code",
   "execution_count": null,
   "metadata": {
    "collapsed": true
   },
   "outputs": [],
   "source": [
    "class Perceptron(object):\n",
    "    '''Perceptron classfier\n",
    "    \n",
    "    Parameters\n",
    "    --------------\n",
    "    eta : float\n",
    "        Learning rate (between 0.0 and 1.0)\n",
    "    n_iter : int\n",
    "        Passes over the traning dataset.\n",
    "    \n",
    "    Attributes\n",
    "    --------------\n",
    "    w_ : 1d-array\n",
    "        Weights after fitting\n",
    "    errors_ : list\n",
    "        Number of misclassifciations in very epoch.\n",
    "    \n",
    "    '''\n",
    "    \n",
    "    def __init__(self, eta=0.01, n_iter=10):\n",
    "        self.eta = eta\n",
    "        self.n_iter = n_iter\n",
    "    \n",
    "    def fit(self, x, y):\n",
    "        '''Fit trainig data:\n",
    "        \n",
    "        Parameters\n",
    "        ----------\n",
    "        x: {array-like}, shape = [n_samples, n_features]\n",
    "            Training vectors, where n_samples\n",
    "            is the number of samples and n_features is the number of features.\n",
    "        y: array-like, shae = [n_samples]\n",
    "            Target values.\n",
    "            \n",
    "        Returns:\n",
    "        ----------\n",
    "        self: object\n",
    "        '''\n",
    "        self.w_ = np.zeros(1+x.shape(1))"
   ]
  }
 ],
 "metadata": {
  "kernelspec": {
   "display_name": "Python 3",
   "language": "python",
   "name": "python3"
  },
  "language_info": {
   "codemirror_mode": {
    "name": "ipython",
    "version": 3
   },
   "file_extension": ".py",
   "mimetype": "text/x-python",
   "name": "python",
   "nbconvert_exporter": "python",
   "pygments_lexer": "ipython3",
   "version": "3.5.1"
  }
 },
 "nbformat": 4,
 "nbformat_minor": 0
}
